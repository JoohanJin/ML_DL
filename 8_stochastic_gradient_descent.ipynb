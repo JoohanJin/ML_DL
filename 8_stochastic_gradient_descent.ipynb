{
 "cells": [
  {
   "cell_type": "code",
   "execution_count": 31,
   "id": "ba97dc84-9d62-40e1-894f-5c23b1b2c12b",
   "metadata": {},
   "outputs": [
    {
     "data": {
      "text/plain": [
       "'\\nLoss Function for Classification\\nFor Binary-Class Classification\\n    Logistic Loss Function/Binary Cross-Entropy Loss Function\\n        if target == 1:\\n            -log(probability)\\n        else if target == 0:\\n            -log(1-probability)\\n\\nFor Multi-Class Classification\\n    Cross-Entropy Loss Function\\n'"
      ]
     },
     "execution_count": 31,
     "metadata": {},
     "output_type": "execute_result"
    }
   ],
   "source": [
    "\"\"\"\n",
    "Loss Function for Classification\n",
    "For Binary-Class Classification\n",
    "    Logistic Loss Function/Binary Cross-Entropy Loss Function\n",
    "        if target == 1:\n",
    "            -log(probability)\n",
    "        else if target == 0:\n",
    "            -log(1-probability)\n",
    "\n",
    "For Multi-Class Classification\n",
    "    Cross-Entropy Loss Function\n",
    "\"\"\""
   ]
  },
  {
   "cell_type": "code",
   "execution_count": 6,
   "id": "9cf811f0-be8b-4764-8ea3-76f646ce37d4",
   "metadata": {},
   "outputs": [
    {
     "data": {
      "text/html": [
       "<div>\n",
       "<style scoped>\n",
       "    .dataframe tbody tr th:only-of-type {\n",
       "        vertical-align: middle;\n",
       "    }\n",
       "\n",
       "    .dataframe tbody tr th {\n",
       "        vertical-align: top;\n",
       "    }\n",
       "\n",
       "    .dataframe thead th {\n",
       "        text-align: right;\n",
       "    }\n",
       "</style>\n",
       "<table border=\"1\" class=\"dataframe\">\n",
       "  <thead>\n",
       "    <tr style=\"text-align: right;\">\n",
       "      <th></th>\n",
       "      <th>Species</th>\n",
       "      <th>Weight</th>\n",
       "      <th>Length</th>\n",
       "      <th>Diagonal</th>\n",
       "      <th>Height</th>\n",
       "      <th>Width</th>\n",
       "    </tr>\n",
       "  </thead>\n",
       "  <tbody>\n",
       "    <tr>\n",
       "      <th>0</th>\n",
       "      <td>Bream</td>\n",
       "      <td>242.0</td>\n",
       "      <td>25.4</td>\n",
       "      <td>30.0</td>\n",
       "      <td>11.5200</td>\n",
       "      <td>4.0200</td>\n",
       "    </tr>\n",
       "    <tr>\n",
       "      <th>1</th>\n",
       "      <td>Bream</td>\n",
       "      <td>290.0</td>\n",
       "      <td>26.3</td>\n",
       "      <td>31.2</td>\n",
       "      <td>12.4800</td>\n",
       "      <td>4.3056</td>\n",
       "    </tr>\n",
       "    <tr>\n",
       "      <th>2</th>\n",
       "      <td>Bream</td>\n",
       "      <td>340.0</td>\n",
       "      <td>26.5</td>\n",
       "      <td>31.1</td>\n",
       "      <td>12.3778</td>\n",
       "      <td>4.6961</td>\n",
       "    </tr>\n",
       "    <tr>\n",
       "      <th>3</th>\n",
       "      <td>Bream</td>\n",
       "      <td>363.0</td>\n",
       "      <td>29.0</td>\n",
       "      <td>33.5</td>\n",
       "      <td>12.7300</td>\n",
       "      <td>4.4555</td>\n",
       "    </tr>\n",
       "    <tr>\n",
       "      <th>4</th>\n",
       "      <td>Bream</td>\n",
       "      <td>430.0</td>\n",
       "      <td>29.0</td>\n",
       "      <td>34.0</td>\n",
       "      <td>12.4440</td>\n",
       "      <td>5.1340</td>\n",
       "    </tr>\n",
       "  </tbody>\n",
       "</table>\n",
       "</div>"
      ],
      "text/plain": [
       "  Species  Weight  Length  Diagonal   Height   Width\n",
       "0   Bream   242.0    25.4      30.0  11.5200  4.0200\n",
       "1   Bream   290.0    26.3      31.2  12.4800  4.3056\n",
       "2   Bream   340.0    26.5      31.1  12.3778  4.6961\n",
       "3   Bream   363.0    29.0      33.5  12.7300  4.4555\n",
       "4   Bream   430.0    29.0      34.0  12.4440  5.1340"
      ]
     },
     "execution_count": 6,
     "metadata": {},
     "output_type": "execute_result"
    }
   ],
   "source": [
    "fish.head()"
   ]
  },
  {
   "cell_type": "code",
   "execution_count": 1,
   "id": "d0ba2d61-263d-469e-9ccb-88b93cf31ec5",
   "metadata": {},
   "outputs": [],
   "source": [
    "import pandas as pd\n",
    "fish = pd.read_csv(\"https://bit.ly/fish_csv_data\")"
   ]
  },
  {
   "cell_type": "code",
   "execution_count": 5,
   "id": "74eaca68-f261-411f-ab2b-bab0fa3982b1",
   "metadata": {},
   "outputs": [
    {
     "name": "stdout",
     "output_type": "stream",
     "text": [
      "['Bream' 'Roach' 'Whitefish' 'Parkki' 'Perch' 'Pike' 'Smelt']\n"
     ]
    }
   ],
   "source": [
    "fish_unique = pd.unique(fish[\"Species\"])\n",
    "print(fish_unique)"
   ]
  },
  {
   "cell_type": "code",
   "execution_count": 14,
   "id": "c498617f-596d-4f9f-891e-d18b3656e783",
   "metadata": {},
   "outputs": [],
   "source": [
    "fish_input = fish[[\"Weight\", \"Length\", \"Diagonal\", \"Height\", \"Width\"]].to_numpy()\n",
    "fish_target = fish[\"Species\"].to_numpy()\n",
    "\n",
    "# fish_input = fish[[\"Weight\", \"Length\", \"Diagonal\", \"Height\", \"Width\"]]\n",
    "# fish_target = fish[\"Species\"]"
   ]
  },
  {
   "cell_type": "code",
   "execution_count": 28,
   "id": "40537777-b66a-4275-8645-c91949f7fe2d",
   "metadata": {},
   "outputs": [],
   "source": [
    "# split the data into train and test\n",
    "from sklearn.model_selection import train_test_split\n",
    "train_input, test_input, train_target, test_target = train_test_split(fish_input, fish_target, random_state = 42)"
   ]
  },
  {
   "cell_type": "code",
   "execution_count": 30,
   "id": "efca0312-32ea-46f1-ade8-483fd36b9fed",
   "metadata": {},
   "outputs": [],
   "source": [
    "# pre-processing\n",
    "from sklearn.preprocessing import StandardScaler\n",
    "ss = StandardScaler()\n",
    "ss.fit(train_input)\n",
    "train_scaled_input = ss.transform(train_input)\n",
    "test_scaled_input = ss.transform(test_input)"
   ]
  },
  {
   "cell_type": "code",
   "execution_count": 38,
   "id": "ab974ab1-9f0b-438b-98b3-c2e6ac687120",
   "metadata": {},
   "outputs": [
    {
     "name": "stdout",
     "output_type": "stream",
     "text": [
      "0.773109243697479\n",
      "0.775\n"
     ]
    },
    {
     "name": "stderr",
     "output_type": "stream",
     "text": [
      "/home/joe/ML_DL/ai/lib/python3.10/site-packages/sklearn/linear_model/_stochastic_gradient.py:723: ConvergenceWarning: Maximum number of iteration reached before convergence. Consider increasing max_iter to improve the fit.\n",
      "  warnings.warn(\n"
     ]
    }
   ],
   "source": [
    "from sklearn.linear_model import SGDClassifier\n",
    "sc = SGDClassifier(loss=\"log_loss\", max_iter=10, random_state=42)\n",
    "sc.fit(train_scaled_input, train_target)\n",
    "print(sc.score(train_scaled_input, train_target))\n",
    "print(sc.score(test_scaled_input, test_target))"
   ]
  },
  {
   "cell_type": "code",
   "execution_count": 40,
   "id": "e529948f-fd72-461f-952c-e4c40cc0b7d1",
   "metadata": {},
   "outputs": [
    {
     "name": "stdout",
     "output_type": "stream",
     "text": [
      "0.8151260504201681\n",
      "0.85\n"
     ]
    }
   ],
   "source": [
    "sc.partial_fit(train_scaled_input, train_target)\n",
    "print(sc.score(train_scaled_input, train_target))\n",
    "print(sc.score(test_scaled_input, test_target))"
   ]
  },
  {
   "cell_type": "code",
   "execution_count": 42,
   "id": "f0de8e9c-1381-4e01-b639-c2454f48cd87",
   "metadata": {},
   "outputs": [],
   "source": [
    "# Early Stopping: stopping training before the point of overfitting\n",
    "import numpy as np\n",
    "sc = SGDClassifier(loss=\"log_loss\", random_state=42)\n",
    "train_score = []\n",
    "test_score = []\n",
    "classes = np.unique(train_target)"
   ]
  },
  {
   "cell_type": "code",
   "execution_count": 50,
   "id": "8ca60e24-94d8-4d39-b943-43845b888ca4",
   "metadata": {},
   "outputs": [],
   "source": [
    "import numpy as np\n",
    "sc = SGDClassifier(loss=\"log_loss\", random_state=42)\n",
    "train_score = []\n",
    "test_score = []\n",
    "classes = np.unique(train_target)"
   ]
  },
  {
   "cell_type": "code",
   "execution_count": 51,
   "id": "fe507bd0-7117-478d-b340-447184e8e117",
   "metadata": {},
   "outputs": [],
   "source": [
    "for _ in range(300):\n",
    "    sc.partial_fit(train_scaled_input, train_target, classes=classes)\n",
    "    train_score.append(sc.score(train_scaled_input, train_target))\n",
    "    test_score.append(sc.score(test_scaled_input, test_target))"
   ]
  },
  {
   "cell_type": "code",
   "execution_count": 52,
   "id": "5adc8bc5-5fcc-44c5-86ee-7a1f8b6a37e3",
   "metadata": {},
   "outputs": [
    {
     "data": {
      "image/png": "[encoded data removed]",
      "text/plain": [
       "<Figure size 640x480 with 1 Axes>"
      ]
     },
     "metadata": {},
     "output_type": "display_data"
    }
   ],
   "source": [
    "import matplotlib.pyplot as plt\n",
    "plt.plot(train_score)\n",
    "plt.plot(test_score)\n",
    "plt.xlabel('epoch num')\n",
    "plt.ylabel('score')\n",
    "plt.show()"
   ]
  },
  {
   "cell_type": "code",
   "execution_count": 53,
   "id": "b480acc1-bb83-4f0f-886b-553f4efd45ab",
   "metadata": {},
   "outputs": [
    {
     "name": "stdout",
     "output_type": "stream",
     "text": [
      "0.957983193277311\n",
      "0.925\n"
     ]
    }
   ],
   "source": [
    "sc = SGDClassifier(loss = \"log_loss\", max_iter = 100, tol = None, random_state = 42)\n",
    "sc.fit(train_scaled_input, train_target)\n",
    "print(sc.score(train_scaled_input, train_target))\n",
    "print(sc.score(test_scaled_input, test_target))"
   ]
  },
  {
   "cell_type": "code",
   "execution_count": 55,
   "id": "65a38d66-3bb5-458b-b0c2-2a356a1a01ad",
   "metadata": {},
   "outputs": [
    {
     "name": "stdout",
     "output_type": "stream",
     "text": [
      "0.8403361344537815\n",
      "0.8\n"
     ]
    }
   ],
   "source": [
    "sc = SGDClassifier(loss = \"log_loss\", max_iter = 100, random_state = 42)\n",
    "sc.fit(train_scaled_input, train_target)\n",
    "print(sc.score(train_scaled_input, train_target))\n",
    "print(sc.score(test_scaled_input, test_target))"
   ]
  },
  {
   "cell_type": "code",
   "execution_count": 56,
   "id": "139c0d07-40d2-4196-8726-87b04ae4de36",
   "metadata": {},
   "outputs": [
    {
     "name": "stdout",
     "output_type": "stream",
     "text": [
      "0.9495798319327731\n",
      "0.925\n"
     ]
    }
   ],
   "source": [
    "sc = SGDClassifier(loss=\"hinge\", max_iter=100, tol=None, random_state = 42)\n",
    "sc.fit(train_scaled_input, train_target)\n",
    "print(sc.score(train_scaled_input, train_target))\n",
    "print(sc.score(test_scaled_input, test_target))"
   ]
  }
 ],
 "metadata": {
  "kernelspec": {
   "display_name": "Python 3 (ipykernel)",
   "language": "python",
   "name": "python3"
  },
  "language_info": {
   "codemirror_mode": {
    "name": "ipython",
    "version": 3
   },
   "file_extension": ".py",
   "mimetype": "text/x-python",
   "name": "python",
   "nbconvert_exporter": "python",
   "pygments_lexer": "ipython3",
   "version": "3.10.12"
  }
 },
 "nbformat": 4,
 "nbformat_minor": 5
}
